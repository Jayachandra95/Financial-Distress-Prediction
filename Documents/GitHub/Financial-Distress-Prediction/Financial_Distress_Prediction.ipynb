{
 "cells": [
  {
   "cell_type": "code",
   "execution_count": 32,
   "metadata": {},
   "outputs": [],
   "source": [
    "# importing the required libraries \n",
    "import numpy as np \n",
    "import pandas as pd \n",
    "import matplotlib.pyplot as plt\n",
    "import os\n",
    "import random"
   ]
  },
  {
   "cell_type": "code",
   "execution_count": 33,
   "metadata": {},
   "outputs": [
    {
     "data": {
      "text/plain": [
       "'C:\\\\Users\\\\Jaya Chandra\\\\Downloads\\\\Financial Distress'"
      ]
     },
     "execution_count": 33,
     "metadata": {},
     "output_type": "execute_result"
    }
   ],
   "source": [
    "os.getcwd()"
   ]
  },
  {
   "cell_type": "code",
   "execution_count": 34,
   "metadata": {},
   "outputs": [],
   "source": [
    "# Reading the dataset\n",
    "data = pd.read_csv(\"C:\\\\Users\\\\Jaya Chandra\\\\Downloads\\\\Financial Distress\\\\Financial_Distress_data.csv\")\n",
    "\n"
   ]
  },
  {
   "cell_type": "code",
   "execution_count": 35,
   "metadata": {},
   "outputs": [
    {
     "data": {
      "text/html": [
       "<div>\n",
       "<style scoped>\n",
       "    .dataframe tbody tr th:only-of-type {\n",
       "        vertical-align: middle;\n",
       "    }\n",
       "\n",
       "    .dataframe tbody tr th {\n",
       "        vertical-align: top;\n",
       "    }\n",
       "\n",
       "    .dataframe thead th {\n",
       "        text-align: right;\n",
       "    }\n",
       "</style>\n",
       "<table border=\"1\" class=\"dataframe\">\n",
       "  <thead>\n",
       "    <tr style=\"text-align: right;\">\n",
       "      <th></th>\n",
       "      <th>Company</th>\n",
       "      <th>Time</th>\n",
       "      <th>Financial Distress</th>\n",
       "      <th>x1</th>\n",
       "      <th>x2</th>\n",
       "      <th>x3</th>\n",
       "      <th>x4</th>\n",
       "      <th>x5</th>\n",
       "      <th>x6</th>\n",
       "      <th>x7</th>\n",
       "      <th>...</th>\n",
       "      <th>x74</th>\n",
       "      <th>x75</th>\n",
       "      <th>x76</th>\n",
       "      <th>x77</th>\n",
       "      <th>x78</th>\n",
       "      <th>x79</th>\n",
       "      <th>x80</th>\n",
       "      <th>x81</th>\n",
       "      <th>x82</th>\n",
       "      <th>x83</th>\n",
       "    </tr>\n",
       "  </thead>\n",
       "  <tbody>\n",
       "    <tr>\n",
       "      <td>count</td>\n",
       "      <td>3672.000000</td>\n",
       "      <td>3672.000000</td>\n",
       "      <td>3672.000000</td>\n",
       "      <td>3672.000000</td>\n",
       "      <td>3672.000000</td>\n",
       "      <td>3672.000000</td>\n",
       "      <td>3.672000e+03</td>\n",
       "      <td>3672.000000</td>\n",
       "      <td>3672.000000</td>\n",
       "      <td>3672.000000</td>\n",
       "      <td>...</td>\n",
       "      <td>3672.000000</td>\n",
       "      <td>3672.000000</td>\n",
       "      <td>3672.000000</td>\n",
       "      <td>3672.000000</td>\n",
       "      <td>3672.000000</td>\n",
       "      <td>3672.000000</td>\n",
       "      <td>3672.000000</td>\n",
       "      <td>3672.000000</td>\n",
       "      <td>3672.000000</td>\n",
       "      <td>3672.000000</td>\n",
       "    </tr>\n",
       "    <tr>\n",
       "      <td>mean</td>\n",
       "      <td>182.084423</td>\n",
       "      <td>7.528322</td>\n",
       "      <td>1.040257</td>\n",
       "      <td>1.387820</td>\n",
       "      <td>0.129706</td>\n",
       "      <td>0.615769</td>\n",
       "      <td>8.681599e-01</td>\n",
       "      <td>0.154949</td>\n",
       "      <td>0.106717</td>\n",
       "      <td>0.784031</td>\n",
       "      <td>...</td>\n",
       "      <td>86.839822</td>\n",
       "      <td>91.920506</td>\n",
       "      <td>89.115908</td>\n",
       "      <td>17.780855</td>\n",
       "      <td>15.198708</td>\n",
       "      <td>-2.664305</td>\n",
       "      <td>19.714597</td>\n",
       "      <td>1.100488</td>\n",
       "      <td>13.122277</td>\n",
       "      <td>33.044935</td>\n",
       "    </tr>\n",
       "    <tr>\n",
       "      <td>std</td>\n",
       "      <td>117.024636</td>\n",
       "      <td>4.064016</td>\n",
       "      <td>2.652227</td>\n",
       "      <td>1.452926</td>\n",
       "      <td>0.120013</td>\n",
       "      <td>0.177904</td>\n",
       "      <td>5.719519e-01</td>\n",
       "      <td>0.124904</td>\n",
       "      <td>0.210555</td>\n",
       "      <td>1.033606</td>\n",
       "      <td>...</td>\n",
       "      <td>16.706209</td>\n",
       "      <td>64.656504</td>\n",
       "      <td>64.349382</td>\n",
       "      <td>2.040152</td>\n",
       "      <td>2.828648</td>\n",
       "      <td>8.192663</td>\n",
       "      <td>7.508588</td>\n",
       "      <td>2.666733</td>\n",
       "      <td>9.465907</td>\n",
       "      <td>13.714563</td>\n",
       "    </tr>\n",
       "    <tr>\n",
       "      <td>min</td>\n",
       "      <td>1.000000</td>\n",
       "      <td>1.000000</td>\n",
       "      <td>-8.631700</td>\n",
       "      <td>0.075170</td>\n",
       "      <td>-0.258080</td>\n",
       "      <td>0.016135</td>\n",
       "      <td>5.350000e-07</td>\n",
       "      <td>-0.269790</td>\n",
       "      <td>-0.627750</td>\n",
       "      <td>0.035160</td>\n",
       "      <td>...</td>\n",
       "      <td>54.806000</td>\n",
       "      <td>24.318000</td>\n",
       "      <td>23.776000</td>\n",
       "      <td>15.250000</td>\n",
       "      <td>12.000000</td>\n",
       "      <td>-20.200000</td>\n",
       "      <td>1.000000</td>\n",
       "      <td>-0.499220</td>\n",
       "      <td>1.000000</td>\n",
       "      <td>2.000000</td>\n",
       "    </tr>\n",
       "    <tr>\n",
       "      <td>25%</td>\n",
       "      <td>80.000000</td>\n",
       "      <td>4.000000</td>\n",
       "      <td>0.172275</td>\n",
       "      <td>0.952145</td>\n",
       "      <td>0.048701</td>\n",
       "      <td>0.501888</td>\n",
       "      <td>5.525575e-01</td>\n",
       "      <td>0.070001</td>\n",
       "      <td>-0.027754</td>\n",
       "      <td>0.436003</td>\n",
       "      <td>...</td>\n",
       "      <td>79.951000</td>\n",
       "      <td>39.800000</td>\n",
       "      <td>38.377000</td>\n",
       "      <td>16.000000</td>\n",
       "      <td>13.000000</td>\n",
       "      <td>-7.000000</td>\n",
       "      <td>14.000000</td>\n",
       "      <td>0.189912</td>\n",
       "      <td>6.000000</td>\n",
       "      <td>21.000000</td>\n",
       "    </tr>\n",
       "    <tr>\n",
       "      <td>50%</td>\n",
       "      <td>168.000000</td>\n",
       "      <td>7.000000</td>\n",
       "      <td>0.583805</td>\n",
       "      <td>1.183600</td>\n",
       "      <td>0.107530</td>\n",
       "      <td>0.638690</td>\n",
       "      <td>7.752450e-01</td>\n",
       "      <td>0.131830</td>\n",
       "      <td>0.104325</td>\n",
       "      <td>0.641875</td>\n",
       "      <td>...</td>\n",
       "      <td>90.000000</td>\n",
       "      <td>66.120000</td>\n",
       "      <td>59.471000</td>\n",
       "      <td>17.000000</td>\n",
       "      <td>14.500000</td>\n",
       "      <td>0.200000</td>\n",
       "      <td>20.000000</td>\n",
       "      <td>0.594765</td>\n",
       "      <td>11.000000</td>\n",
       "      <td>34.000000</td>\n",
       "    </tr>\n",
       "    <tr>\n",
       "      <td>75%</td>\n",
       "      <td>264.250000</td>\n",
       "      <td>11.000000</td>\n",
       "      <td>1.351750</td>\n",
       "      <td>1.506475</td>\n",
       "      <td>0.188685</td>\n",
       "      <td>0.749425</td>\n",
       "      <td>1.039000e+00</td>\n",
       "      <td>0.219570</td>\n",
       "      <td>0.231230</td>\n",
       "      <td>0.896773</td>\n",
       "      <td>...</td>\n",
       "      <td>93.883000</td>\n",
       "      <td>130.500000</td>\n",
       "      <td>132.400000</td>\n",
       "      <td>20.000000</td>\n",
       "      <td>16.000000</td>\n",
       "      <td>2.100000</td>\n",
       "      <td>26.000000</td>\n",
       "      <td>1.355050</td>\n",
       "      <td>17.000000</td>\n",
       "      <td>44.000000</td>\n",
       "    </tr>\n",
       "    <tr>\n",
       "      <td>max</td>\n",
       "      <td>422.000000</td>\n",
       "      <td>14.000000</td>\n",
       "      <td>128.400000</td>\n",
       "      <td>51.954000</td>\n",
       "      <td>0.749410</td>\n",
       "      <td>0.967900</td>\n",
       "      <td>6.835600e+00</td>\n",
       "      <td>0.858540</td>\n",
       "      <td>0.929550</td>\n",
       "      <td>38.836000</td>\n",
       "      <td>...</td>\n",
       "      <td>120.870000</td>\n",
       "      <td>227.500000</td>\n",
       "      <td>214.500000</td>\n",
       "      <td>22.000000</td>\n",
       "      <td>22.000000</td>\n",
       "      <td>8.600000</td>\n",
       "      <td>37.000000</td>\n",
       "      <td>128.400000</td>\n",
       "      <td>49.000000</td>\n",
       "      <td>74.000000</td>\n",
       "    </tr>\n",
       "  </tbody>\n",
       "</table>\n",
       "<p>8 rows × 86 columns</p>\n",
       "</div>"
      ],
      "text/plain": [
       "           Company         Time  Financial Distress           x1           x2  \\\n",
       "count  3672.000000  3672.000000         3672.000000  3672.000000  3672.000000   \n",
       "mean    182.084423     7.528322            1.040257     1.387820     0.129706   \n",
       "std     117.024636     4.064016            2.652227     1.452926     0.120013   \n",
       "min       1.000000     1.000000           -8.631700     0.075170    -0.258080   \n",
       "25%      80.000000     4.000000            0.172275     0.952145     0.048701   \n",
       "50%     168.000000     7.000000            0.583805     1.183600     0.107530   \n",
       "75%     264.250000    11.000000            1.351750     1.506475     0.188685   \n",
       "max     422.000000    14.000000          128.400000    51.954000     0.749410   \n",
       "\n",
       "                x3            x4           x5           x6           x7  ...  \\\n",
       "count  3672.000000  3.672000e+03  3672.000000  3672.000000  3672.000000  ...   \n",
       "mean      0.615769  8.681599e-01     0.154949     0.106717     0.784031  ...   \n",
       "std       0.177904  5.719519e-01     0.124904     0.210555     1.033606  ...   \n",
       "min       0.016135  5.350000e-07    -0.269790    -0.627750     0.035160  ...   \n",
       "25%       0.501888  5.525575e-01     0.070001    -0.027754     0.436003  ...   \n",
       "50%       0.638690  7.752450e-01     0.131830     0.104325     0.641875  ...   \n",
       "75%       0.749425  1.039000e+00     0.219570     0.231230     0.896773  ...   \n",
       "max       0.967900  6.835600e+00     0.858540     0.929550    38.836000  ...   \n",
       "\n",
       "               x74          x75          x76          x77          x78  \\\n",
       "count  3672.000000  3672.000000  3672.000000  3672.000000  3672.000000   \n",
       "mean     86.839822    91.920506    89.115908    17.780855    15.198708   \n",
       "std      16.706209    64.656504    64.349382     2.040152     2.828648   \n",
       "min      54.806000    24.318000    23.776000    15.250000    12.000000   \n",
       "25%      79.951000    39.800000    38.377000    16.000000    13.000000   \n",
       "50%      90.000000    66.120000    59.471000    17.000000    14.500000   \n",
       "75%      93.883000   130.500000   132.400000    20.000000    16.000000   \n",
       "max     120.870000   227.500000   214.500000    22.000000    22.000000   \n",
       "\n",
       "               x79          x80          x81          x82          x83  \n",
       "count  3672.000000  3672.000000  3672.000000  3672.000000  3672.000000  \n",
       "mean     -2.664305    19.714597     1.100488    13.122277    33.044935  \n",
       "std       8.192663     7.508588     2.666733     9.465907    13.714563  \n",
       "min     -20.200000     1.000000    -0.499220     1.000000     2.000000  \n",
       "25%      -7.000000    14.000000     0.189912     6.000000    21.000000  \n",
       "50%       0.200000    20.000000     0.594765    11.000000    34.000000  \n",
       "75%       2.100000    26.000000     1.355050    17.000000    44.000000  \n",
       "max       8.600000    37.000000   128.400000    49.000000    74.000000  \n",
       "\n",
       "[8 rows x 86 columns]"
      ]
     },
     "execution_count": 35,
     "metadata": {},
     "output_type": "execute_result"
    }
   ],
   "source": [
    "# Checking the dataset\n",
    "data.head()\n",
    "data.tail()\n",
    "data.describe()"
   ]
  },
  {
   "cell_type": "code",
   "execution_count": 36,
   "metadata": {},
   "outputs": [
    {
     "name": "stdout",
     "output_type": "stream",
     "text": [
      "Number of companies: (422,)\n"
     ]
    }
   ],
   "source": [
    "# How many companies are there?\n",
    "print(\"Number of companies:\",data.Company.unique().shape)"
   ]
  },
  {
   "cell_type": "code",
   "execution_count": 37,
   "metadata": {},
   "outputs": [],
   "source": [
    "# dropping the categorical variable for time being\n",
    "data = data[data.columns.drop(list(data.filter(regex='x80')))]\n",
    "#data = data[data.columns.drop(list(data.filter(regex='x80')))]"
   ]
  },
  {
   "cell_type": "code",
   "execution_count": 38,
   "metadata": {},
   "outputs": [
    {
     "data": {
      "text/html": [
       "<div>\n",
       "<style scoped>\n",
       "    .dataframe tbody tr th:only-of-type {\n",
       "        vertical-align: middle;\n",
       "    }\n",
       "\n",
       "    .dataframe tbody tr th {\n",
       "        vertical-align: top;\n",
       "    }\n",
       "\n",
       "    .dataframe thead th {\n",
       "        text-align: right;\n",
       "    }\n",
       "</style>\n",
       "<table border=\"1\" class=\"dataframe\">\n",
       "  <thead>\n",
       "    <tr style=\"text-align: right;\">\n",
       "      <th></th>\n",
       "      <th>Company</th>\n",
       "      <th>Time</th>\n",
       "      <th>Financial Distress</th>\n",
       "      <th>x1</th>\n",
       "      <th>x2</th>\n",
       "      <th>x3</th>\n",
       "      <th>x4</th>\n",
       "      <th>x5</th>\n",
       "      <th>x6</th>\n",
       "      <th>x7</th>\n",
       "      <th>...</th>\n",
       "      <th>x73</th>\n",
       "      <th>x74</th>\n",
       "      <th>x75</th>\n",
       "      <th>x76</th>\n",
       "      <th>x77</th>\n",
       "      <th>x78</th>\n",
       "      <th>x79</th>\n",
       "      <th>x81</th>\n",
       "      <th>x82</th>\n",
       "      <th>x83</th>\n",
       "    </tr>\n",
       "  </thead>\n",
       "  <tbody>\n",
       "    <tr>\n",
       "      <td>0</td>\n",
       "      <td>1</td>\n",
       "      <td>1</td>\n",
       "      <td>0.010636</td>\n",
       "      <td>1.2810</td>\n",
       "      <td>0.022934</td>\n",
       "      <td>0.87454</td>\n",
       "      <td>1.21640</td>\n",
       "      <td>0.060940</td>\n",
       "      <td>0.188270</td>\n",
       "      <td>0.52510</td>\n",
       "      <td>...</td>\n",
       "      <td>36.0</td>\n",
       "      <td>85.437</td>\n",
       "      <td>27.07</td>\n",
       "      <td>26.102</td>\n",
       "      <td>16.0</td>\n",
       "      <td>16.0</td>\n",
       "      <td>0.2</td>\n",
       "      <td>0.060390</td>\n",
       "      <td>30</td>\n",
       "      <td>49</td>\n",
       "    </tr>\n",
       "    <tr>\n",
       "      <td>1</td>\n",
       "      <td>1</td>\n",
       "      <td>2</td>\n",
       "      <td>-0.455970</td>\n",
       "      <td>1.2700</td>\n",
       "      <td>0.006454</td>\n",
       "      <td>0.82067</td>\n",
       "      <td>1.00490</td>\n",
       "      <td>-0.014080</td>\n",
       "      <td>0.181040</td>\n",
       "      <td>0.62288</td>\n",
       "      <td>...</td>\n",
       "      <td>36.0</td>\n",
       "      <td>107.090</td>\n",
       "      <td>31.31</td>\n",
       "      <td>30.194</td>\n",
       "      <td>17.0</td>\n",
       "      <td>16.0</td>\n",
       "      <td>0.4</td>\n",
       "      <td>0.010636</td>\n",
       "      <td>31</td>\n",
       "      <td>50</td>\n",
       "    </tr>\n",
       "    <tr>\n",
       "      <td>2</td>\n",
       "      <td>1</td>\n",
       "      <td>3</td>\n",
       "      <td>-0.325390</td>\n",
       "      <td>1.0529</td>\n",
       "      <td>-0.059379</td>\n",
       "      <td>0.92242</td>\n",
       "      <td>0.72926</td>\n",
       "      <td>0.020476</td>\n",
       "      <td>0.044865</td>\n",
       "      <td>0.43292</td>\n",
       "      <td>...</td>\n",
       "      <td>35.0</td>\n",
       "      <td>120.870</td>\n",
       "      <td>36.07</td>\n",
       "      <td>35.273</td>\n",
       "      <td>17.0</td>\n",
       "      <td>15.0</td>\n",
       "      <td>-0.2</td>\n",
       "      <td>-0.455970</td>\n",
       "      <td>32</td>\n",
       "      <td>51</td>\n",
       "    </tr>\n",
       "  </tbody>\n",
       "</table>\n",
       "<p>3 rows × 85 columns</p>\n",
       "</div>"
      ],
      "text/plain": [
       "   Company  Time  Financial Distress      x1        x2       x3       x4  \\\n",
       "0        1     1            0.010636  1.2810  0.022934  0.87454  1.21640   \n",
       "1        1     2           -0.455970  1.2700  0.006454  0.82067  1.00490   \n",
       "2        1     3           -0.325390  1.0529 -0.059379  0.92242  0.72926   \n",
       "\n",
       "         x5        x6       x7  ...   x73      x74    x75     x76   x77   x78  \\\n",
       "0  0.060940  0.188270  0.52510  ...  36.0   85.437  27.07  26.102  16.0  16.0   \n",
       "1 -0.014080  0.181040  0.62288  ...  36.0  107.090  31.31  30.194  17.0  16.0   \n",
       "2  0.020476  0.044865  0.43292  ...  35.0  120.870  36.07  35.273  17.0  15.0   \n",
       "\n",
       "   x79       x81  x82  x83  \n",
       "0  0.2  0.060390   30   49  \n",
       "1  0.4  0.010636   31   50  \n",
       "2 -0.2 -0.455970   32   51  \n",
       "\n",
       "[3 rows x 85 columns]"
      ]
     },
     "execution_count": 38,
     "metadata": {},
     "output_type": "execute_result"
    }
   ],
   "source": [
    "data.head(3)"
   ]
  },
  {
   "cell_type": "code",
   "execution_count": 39,
   "metadata": {},
   "outputs": [
    {
     "name": "stdout",
     "output_type": "stream",
     "text": [
      "[ 0.010636 -0.45597  -0.32539  ...  0.50077   0.61103   0.51865 ]\n"
     ]
    }
   ],
   "source": [
    "# Creating target vector and feature matrix\n",
    "Y = data.iloc[:,2].values\n",
    "\n",
    "print(Y)"
   ]
  },
  {
   "cell_type": "code",
   "execution_count": 40,
   "metadata": {},
   "outputs": [],
   "source": [
    "# converting target variable from continuous form to binary form\n",
    "#We convert the continuous response variable \"Financial distress\" to a categorical variable, where '1' represents that\n",
    "#the company is bankrupt, whereas '0' suggests a healthy company.Also, we do not consider the columns \"Time\" and \"Company\" \n",
    "#for our analysis.\"X\" is the feature matrix; \"Y\" is the target vector.\n",
    "\n",
    "for y in range(0,len(Y)):\n",
    "    if Y[y] > -0.5:\n",
    "        Y[y] = 0\n",
    "    else:\n",
    "        Y[y] = 1"
   ]
  },
  {
   "cell_type": "code",
   "execution_count": 41,
   "metadata": {},
   "outputs": [
    {
     "data": {
      "text/plain": [
       "0    0.0\n",
       "1    0.0\n",
       "2    0.0\n",
       "3    1.0\n",
       "Name: Financial Distress, dtype: float64"
      ]
     },
     "execution_count": 41,
     "metadata": {},
     "output_type": "execute_result"
    }
   ],
   "source": [
    "data['Financial Distress'].head(4)"
   ]
  },
  {
   "cell_type": "code",
   "execution_count": 42,
   "metadata": {},
   "outputs": [],
   "source": [
    "#Feature Matrix\n",
    "X = data.iloc[:,3:].values"
   ]
  },
  {
   "cell_type": "code",
   "execution_count": 43,
   "metadata": {},
   "outputs": [
    {
     "data": {
      "text/plain": [
       "array([[ 1.2810e+00,  2.2934e-02,  8.7454e-01, ...,  6.0390e-02,\n",
       "         3.0000e+01,  4.9000e+01],\n",
       "       [ 1.2700e+00,  6.4542e-03,  8.2067e-01, ...,  1.0636e-02,\n",
       "         3.1000e+01,  5.0000e+01],\n",
       "       [ 1.0529e+00, -5.9379e-02,  9.2242e-01, ..., -4.5597e-01,\n",
       "         3.2000e+01,  5.1000e+01],\n",
       "       ...,\n",
       "       [ 1.7099e+00,  2.0797e-01,  2.6136e-01, ...,  4.8241e-01,\n",
       "         6.0000e+00,  4.3000e+01],\n",
       "       [ 1.5590e+00,  1.8545e-01,  3.0728e-01, ...,  5.0077e-01,\n",
       "         7.0000e+00,  4.4000e+01],\n",
       "       [ 1.6148e+00,  1.7676e-01,  3.6369e-01, ...,  6.1103e-01,\n",
       "         8.0000e+00,  4.5000e+01]])"
      ]
     },
     "execution_count": 43,
     "metadata": {},
     "output_type": "execute_result"
    }
   ],
   "source": [
    "X"
   ]
  },
  {
   "cell_type": "code",
   "execution_count": 44,
   "metadata": {},
   "outputs": [
    {
     "name": "stdout",
     "output_type": "stream",
     "text": [
      "Number of Bankrupt companies(1's): 136\n",
      "Number of Healthy companies(0's): 3536\n"
     ]
    }
   ],
   "source": [
    "# How many Bankrupt companies and Healthy companies are there????\n",
    "\n",
    "num_zeros = 0\n",
    "\n",
    "for num in Y:\n",
    "    if num == 0:\n",
    "        num_zeros = num_zeros + 1\n",
    "        \n",
    "        \n",
    "num_ones = len(Y) -num_zeros\n",
    "\n",
    "print(\"Number of Bankrupt companies(1's):\",num_ones)\n",
    "print(\"Number of Healthy companies(0's):\",num_zeros)\n"
   ]
  },
  {
   "cell_type": "markdown",
   "metadata": {},
   "source": []
  },
  {
   "cell_type": "markdown",
   "metadata": {},
   "source": [
    "The data is highly skewed "
   ]
  },
  {
   "cell_type": "code",
   "execution_count": 45,
   "metadata": {},
   "outputs": [],
   "source": [
    "# Splitting the data into training and testing set, before oversampling in order to prevent the information leak.\n",
    "from sklearn.model_selection import train_test_split\n",
    "X_train,X_test,y_train,y_test = train_test_split(X,Y, test_size = 0.30, random_state = 0)\n",
    "X_train_wo_sampling = X_train\n",
    "y_train_wo_sampling = y_train\n"
   ]
  },
  {
   "cell_type": "code",
   "execution_count": 46,
   "metadata": {},
   "outputs": [],
   "source": [
    "# Creating more samples units for the bankrupt companies(undersampled data)"
   ]
  },
  {
   "cell_type": "code",
   "execution_count": 47,
   "metadata": {},
   "outputs": [],
   "source": [
    "y_train = (np.matrix(y_train)).T\n",
    "y_train = pd.DataFrame(y_train)\n",
    "y_train.columns = [\"Financial_Distress\"]\n",
    "X_train = pd.DataFrame(X_train)\n",
    "frame = [X_train,y_train]\n",
    "train_data = pd.concat(frame,axis = 1)\n",
    "bankrupt_companies = train_data[train_data.Financial_Distress == 1]\n"
   ]
  },
  {
   "cell_type": "code",
   "execution_count": 48,
   "metadata": {},
   "outputs": [
    {
     "name": "stdout",
     "output_type": "stream",
     "text": [
      "            0         1        2        3         4         5        6  \\\n",
      "24    0.72601 -0.133740  0.79452  0.22155 -0.024119 -0.194890  0.60304   \n",
      "86    1.07050  0.006286  0.79027  0.31985 -0.002291  0.021392  0.34992   \n",
      "89    1.37990 -0.104210  0.60369  0.25075 -0.084244  0.213070  0.55143   \n",
      "169   1.03350 -0.073828  0.86506  0.31855 -0.067301  0.027883  0.15051   \n",
      "196   1.27400  0.029515  0.64634  1.12250  0.095558  0.175130  0.75978   \n",
      "...       ...       ...      ...      ...       ...       ...      ...   \n",
      "2495  1.07480 -0.053024  0.73580  1.10270 -0.027148  0.051980  0.49208   \n",
      "2496  1.05280  0.049842  0.87622  1.38230  0.195930  0.035480  0.45507   \n",
      "2503  1.22640  0.020944  0.82133  1.03900 -0.001431  0.173640  0.78507   \n",
      "2548  1.34650  0.034011  0.76530  3.23050  0.036783  0.213700  0.33127   \n",
      "2559  0.57287 -0.047373  0.88606  0.46219  0.021694 -0.334060  0.27040   \n",
      "\n",
      "             7         8         9  ...      73       74       75      76  \\\n",
      "24   -0.603660 -0.650880 -0.138620  ...  66.262   52.740   49.206  15.500   \n",
      "86    0.019654  0.029973  0.000247  ...  78.786   25.235   24.551  15.500   \n",
      "89   -0.415580 -0.262940 -0.204030  ...  92.900  203.200  204.500  22.000   \n",
      "169  -0.231760 -0.547100 -0.092978  ...  79.951   66.120   59.471  18.000   \n",
      "196   0.026293  0.083457  0.064491  ...  79.951   66.120   59.471  18.000   \n",
      "...        ...       ...       ...  ...     ...      ...      ...     ...   \n",
      "2495 -0.048087 -0.200690 -0.008195  ...  87.840   37.935   36.825  17.083   \n",
      "2496  0.036056  0.402670  0.022515  ...  91.500  130.500  132.400  20.000   \n",
      "2503  0.020158  0.117220  0.002163  ...  76.529   62.775   56.905  17.375   \n",
      "2548  0.010528  0.144910  0.034070  ...  92.900  203.200  204.500  22.000   \n",
      "2559 -0.102500 -0.415770 -0.056942  ...  84.660   73.200   63.880  16.000   \n",
      "\n",
      "        77     78        79    80    81  Financial_Distress  \n",
      "24    12.0  -6.40 -0.434380   6.0  12.0                 1.0  \n",
      "86    16.5   2.90  0.001360   7.0  19.0                 1.0  \n",
      "89    22.0   6.40 -0.373840  22.0  33.0                 1.0  \n",
      "169   12.0 -13.40 -0.448470  14.0  40.0                 1.0  \n",
      "196   12.0 -13.40  0.240960   5.0   9.0                 1.0  \n",
      "...    ...    ...       ...   ...   ...                 ...  \n",
      "2495  15.5   2.70 -0.031404  12.0  23.0                 1.0  \n",
      "2496  14.5 -16.00  0.275800  21.0  41.0                 1.0  \n",
      "2503  12.0 -11.65  0.013600  16.0  36.0                 1.0  \n",
      "2548  22.0   6.40  0.186800  12.0  18.0                 1.0  \n",
      "2559  12.0   1.20 -0.365090   6.0  24.0                 1.0  \n",
      "\n",
      "[95 rows x 83 columns]\n"
     ]
    }
   ],
   "source": [
    "print(bankrupt_companies)"
   ]
  },
  {
   "cell_type": "code",
   "execution_count": 49,
   "metadata": {},
   "outputs": [],
   "source": [
    "feat_mat = bankrupt_companies.iloc[:,:-1].values\n",
    "#print(feat_mat)\n",
    "response = bankrupt_companies.iloc[:,-1].values\n",
    "#print(response)\n",
    "\n",
    "col_mean = np.zeros(shape=(82,1)) \n",
    "#print(col_mean)\n",
    "col_std = np.zeros(shape=(82,1))\n",
    "#print(col_std)\n",
    "Dim_1 = np.shape(feat_mat)\n",
    "#print(Dim_1)\n",
    "\n",
    "\n"
   ]
  },
  {
   "cell_type": "code",
   "execution_count": 50,
   "metadata": {},
   "outputs": [],
   "source": [
    "# Logic to calculate mean and standard deviation for each column\n",
    "for i in range(0,Dim_1[1]): \n",
    "       col_mean[i,0] = np.mean(feat_mat[:,i])\n",
    "       col_std[i,0] = np.std(feat_mat[:,i])\n",
    "col_mean_and_std = np.hstack((col_mean,col_std))\n",
    "\n"
   ]
  },
  {
   "cell_type": "code",
   "execution_count": 51,
   "metadata": {},
   "outputs": [
    {
     "name": "stdout",
     "output_type": "stream",
     "text": [
      "[[ 1.06949600e+00  3.57245713e-01]\n",
      " [-1.33572440e-02  6.77190689e-02]\n",
      " [ 7.89428842e-01  1.13375899e-01]\n",
      " [ 7.10756637e-01  4.84970861e-01]\n",
      " [ 1.22348433e-02  6.93007422e-02]\n",
      " [ 2.79420526e-02  1.84870265e-01]\n",
      " [ 5.46767684e-01  2.57939699e-01]\n",
      " [ 2.19992097e+03  2.13297995e+04]\n",
      " [-9.43342137e-02  5.19588722e-01]\n",
      " [-3.18640682e-02  8.01521390e-02]\n",
      " [ 7.00971116e-01  1.96106189e-01]\n",
      " [-4.68915519e+02  4.30721227e+03]\n",
      " [ 2.10570674e-01  1.13375780e-01]\n",
      " [ 5.37192400e+00  4.12168170e+00]\n",
      " [ 3.51427557e+01  2.94332279e+02]\n",
      " [-2.52480588e+02  2.44771934e+03]\n",
      " [ 2.08779023e+03  2.02068045e+04]\n",
      " [ 2.88788485e-02  2.92017056e-02]\n",
      " [ 1.46327133e+03  1.41858304e+04]\n",
      " [ 4.62484211e-02  5.49022587e-02]\n",
      " [ 1.02822438e+00  6.35629849e-01]\n",
      " [ 5.82031485e+00  5.99712702e+00]\n",
      " [ 1.22514654e-01  1.23857735e-01]\n",
      " [ 6.73029789e-01  1.52897790e-01]\n",
      " [ 2.17129495e+01  6.73921139e+02]\n",
      " [ 1.27216547e+01  1.40163942e+00]\n",
      " [ 6.31030661e+00  3.90095259e+01]\n",
      " [ 1.03350662e-01  2.02389418e-01]\n",
      " [ 1.16400293e-01  1.08137467e-01]\n",
      " [ 3.62496758e-01  1.70469732e-01]\n",
      " [ 2.56336948e+03  1.92924116e+04]\n",
      " [ 1.53762907e+03  1.49001559e+04]\n",
      " [ 8.50111263e-01  1.38563537e-01]\n",
      " [ 2.30923637e+03  2.23499485e+04]\n",
      " [ 1.50908323e+02  1.46805539e+02]\n",
      " [-1.80366745e-02  1.84607758e-01]\n",
      " [ 7.73965045e-01  1.22586042e+00]\n",
      " [ 6.84100453e+00  6.58211058e+01]\n",
      " [ 1.60804095e-02  3.70726798e-01]\n",
      " [ 2.25437354e-01  1.69277665e-01]\n",
      " [ 4.49032934e+00  4.08531084e+00]\n",
      " [-4.90863826e+00  2.61227758e+01]\n",
      " [ 2.99232926e+00  1.38235704e+01]\n",
      " [-4.15539313e-01  3.17011429e+00]\n",
      " [-2.26140968e-02  1.31717599e+00]\n",
      " [-1.98611219e-02  9.40970697e-02]\n",
      " [ 5.66472126e+00  4.55827198e+00]\n",
      " [ 1.37166316e+03  1.04525405e+03]\n",
      " [ 4.59794979e+00  3.44291718e+00]\n",
      " [ 8.77484632e-01  1.23857654e-01]\n",
      " [ 1.20363032e+01  1.91809568e+00]\n",
      " [-2.30041479e+02  2.23054732e+03]\n",
      " [ 8.32056200e-02  8.90430590e-02]\n",
      " [ 9.43389339e+02  1.84624217e+03]\n",
      " [-2.99012926e-01  7.03828354e-01]\n",
      " [ 2.86551534e-01  1.56547756e-01]\n",
      " [ 1.33099479e-01  3.61052635e-01]\n",
      " [-1.81812400e-02  3.32179015e-02]\n",
      " [-8.29093920e+01  8.03383363e+02]\n",
      " [ 4.99505684e-02  1.18303102e-01]\n",
      " [ 3.29767780e+00  3.58668880e+00]\n",
      " [ 4.40196842e+00  6.40983132e+00]\n",
      " [ 2.57662158e+00  7.83911626e+00]\n",
      " [ 2.49043989e+00  1.18564350e+01]\n",
      " [ 3.48594432e+01  4.78443028e+01]\n",
      " [ 2.67459684e+01  5.92094684e+00]\n",
      " [ 1.15579158e+01  1.02256406e+00]\n",
      " [ 1.41546895e+04  9.22279453e+03]\n",
      " [ 3.60242838e+01  1.10570457e+02]\n",
      " [ 1.73973895e+01  6.28180522e+00]\n",
      " [ 2.49857642e+01  1.75166501e+01]\n",
      " [ 1.86033053e+00  1.51823423e+00]\n",
      " [ 3.06470316e+01  3.88485317e+00]\n",
      " [ 8.80281053e+01  1.50464236e+01]\n",
      " [ 8.25182526e+01  6.05995363e+01]\n",
      " [ 7.92403895e+01  6.02974487e+01]\n",
      " [ 1.75665579e+01  1.90472996e+00]\n",
      " [ 1.50135053e+01  2.86716441e+00]\n",
      " [-2.38388863e+00  7.54639452e+00]\n",
      " [ 1.95376747e-02  6.32352660e-01]\n",
      " [ 1.40631579e+01  9.54745546e+00]\n",
      " [ 3.45263158e+01  1.27830827e+01]]\n"
     ]
    }
   ],
   "source": [
    "print(col_mean_and_std)"
   ]
  },
  {
   "cell_type": "code",
   "execution_count": 52,
   "metadata": {},
   "outputs": [
    {
     "name": "stdout",
     "output_type": "stream",
     "text": [
      "[[0. 0. 0. ... 0. 0. 0.]\n",
      " [0. 0. 0. ... 0. 0. 0.]\n",
      " [0. 0. 0. ... 0. 0. 0.]\n",
      " ...\n",
      " [0. 0. 0. ... 0. 0. 0.]\n",
      " [0. 0. 0. ... 0. 0. 0.]\n",
      " [0. 0. 0. ... 0. 0. 0.]]\n",
      "[[1.]\n",
      " [1.]\n",
      " [1.]\n",
      " ...\n",
      " [1.]\n",
      " [1.]\n",
      " [1.]]\n"
     ]
    }
   ],
   "source": [
    "added_data = np.zeros(shape=(1200,Dim_1[1])) \n",
    "print(added_data)\n",
    "\n",
    "for i in range (0,len(col_mean_and_std)):\n",
    "       mean_ = col_mean_and_std[i,0]\n",
    "       std_ = col_mean_and_std[i,1]\n",
    "       added_data[:,i] = np.random.normal(mean_,std_,1200)\n",
    "added_y = np.ones(shape=(1200,1)) # Creating labels for the added data\n",
    "print(added_y)"
   ]
  },
  {
   "cell_type": "code",
   "execution_count": 53,
   "metadata": {},
   "outputs": [],
   "source": [
    "\n",
    "X_resampled = np.vstack((X_train,added_data)) # Combining the original data + added data\n"
   ]
  },
  {
   "cell_type": "code",
   "execution_count": 54,
   "metadata": {},
   "outputs": [
    {
     "name": "stdout",
     "output_type": "stream",
     "text": [
      "[[ 9.65510000e-01  5.38380000e-04  9.25900000e-01 ... -2.23230000e-01\n",
      "   1.10000000e+01  2.10000000e+01]\n",
      " [ 1.30520000e+00  1.59120000e-01  5.79630000e-01 ...  1.14970000e-01\n",
      "   8.00000000e+00  2.10000000e+01]\n",
      " [ 9.81820000e-01 -2.55280000e-02  7.28130000e-01 ... -3.93400000e-02\n",
      "   3.40000000e+01  5.20000000e+01]\n",
      " ...\n",
      " [ 6.31705359e-01 -3.83961462e-02  6.88671544e-01 ... -1.14069298e+00\n",
      "   1.39247855e+01  3.27181868e+01]\n",
      " [ 1.41663460e+00  5.80929591e-03  8.64834101e-01 ... -7.66632680e-01\n",
      "   1.32471694e+01  4.78597935e+01]\n",
      " [ 1.31404251e+00 -8.55284435e-03  7.28086311e-01 ... -8.80169343e-01\n",
      "   9.18503708e+00  2.60528911e+01]]\n"
     ]
    }
   ],
   "source": [
    "print(X_resampled)"
   ]
  },
  {
   "cell_type": "code",
   "execution_count": 60,
   "metadata": {},
   "outputs": [
    {
     "data": {
      "text/plain": [
       "array([[0., 0., 0., ..., 0., 0., 0.]])"
      ]
     },
     "execution_count": 60,
     "metadata": {},
     "output_type": "execute_result"
    }
   ],
   "source": [
    "y_train"
   ]
  },
  {
   "cell_type": "code",
   "execution_count": 61,
   "metadata": {},
   "outputs": [],
   "source": [
    "y_train = np.array(y_train).T\n"
   ]
  },
  {
   "cell_type": "code",
   "execution_count": 62,
   "metadata": {},
   "outputs": [
    {
     "data": {
      "text/plain": [
       "array([[0.],\n",
       "       [0.],\n",
       "       [0.],\n",
       "       ...,\n",
       "       [0.],\n",
       "       [0.],\n",
       "       [0.]])"
      ]
     },
     "execution_count": 62,
     "metadata": {},
     "output_type": "execute_result"
    }
   ],
   "source": [
    "y_train"
   ]
  },
  {
   "cell_type": "code",
   "execution_count": 63,
   "metadata": {},
   "outputs": [
    {
     "data": {
      "text/plain": [
       "array([[1.],\n",
       "       [1.],\n",
       "       [1.],\n",
       "       ...,\n",
       "       [1.],\n",
       "       [1.],\n",
       "       [1.]])"
      ]
     },
     "execution_count": 63,
     "metadata": {},
     "output_type": "execute_result"
    }
   ],
   "source": [
    "added_y"
   ]
  },
  {
   "cell_type": "code",
   "execution_count": 64,
   "metadata": {},
   "outputs": [],
   "source": [
    "y_resampled = np.vstack((y_train,added_y))"
   ]
  },
  {
   "cell_type": "code",
   "execution_count": 65,
   "metadata": {},
   "outputs": [
    {
     "name": "stdout",
     "output_type": "stream",
     "text": [
      "[[ 9.65510000e-01  5.38380000e-04  9.25900000e-01 ... -2.23230000e-01\n",
      "   1.10000000e+01  2.10000000e+01]\n",
      " [ 1.30520000e+00  1.59120000e-01  5.79630000e-01 ...  1.14970000e-01\n",
      "   8.00000000e+00  2.10000000e+01]\n",
      " [ 9.81820000e-01 -2.55280000e-02  7.28130000e-01 ... -3.93400000e-02\n",
      "   3.40000000e+01  5.20000000e+01]\n",
      " ...\n",
      " [ 6.31705359e-01 -3.83961462e-02  6.88671544e-01 ... -1.14069298e+00\n",
      "   1.39247855e+01  3.27181868e+01]\n",
      " [ 1.41663460e+00  5.80929591e-03  8.64834101e-01 ... -7.66632680e-01\n",
      "   1.32471694e+01  4.78597935e+01]\n",
      " [ 1.31404251e+00 -8.55284435e-03  7.28086311e-01 ... -8.80169343e-01\n",
      "   9.18503708e+00  2.60528911e+01]]\n"
     ]
    }
   ],
   "source": [
    "#print(y_resampled)\n",
    "print(X_resampled)"
   ]
  },
  {
   "cell_type": "code",
   "execution_count": 66,
   "metadata": {},
   "outputs": [],
   "source": [
    "# Feature scaling\n",
    "from sklearn.preprocessing import StandardScaler\n",
    "sc = StandardScaler()\n",
    "X_resampled = sc.fit_transform(X_resampled)\n",
    "X_test = sc.transform(X_test)"
   ]
  },
  {
   "cell_type": "markdown",
   "metadata": {},
   "source": [
    "Feature Scaling : Feature Scaling is a technique to standardize the independent features present in the data in a fixed range. It is performed during the data pre-processing to handle highly varying magnitudes or values or units. If feature scaling is not done, then a machine learning algorithm tends to weigh greater values, higher and consider smaller values as the lower values, regardless of the unit of the values"
   ]
  },
  {
   "cell_type": "code",
   "execution_count": 67,
   "metadata": {},
   "outputs": [],
   "source": [
    "from sklearn.preprocessing import StandardScaler\n",
    "\n",
    "sc = StandardScaler()\n",
    "\n",
    "X_resampled = sc.fit_transform(X_resampled)\n",
    "\n",
    "X_test = sc.transform(X_test)"
   ]
  },
  {
   "cell_type": "code",
   "execution_count": 68,
   "metadata": {},
   "outputs": [
    {
     "name": "stdout",
     "output_type": "stream",
     "text": [
      "[[-0.23718002 -0.6786098   1.42583695 ... -0.62990397 -0.26437471\n",
      "  -0.94456914]\n",
      " [ 0.00713081  0.59122014 -0.51839844 ... -0.40329845 -0.57780283\n",
      "  -0.94456914]\n",
      " [-0.22544959 -0.8873343   0.31539876 ... -0.50669141  2.13857419\n",
      "   1.38200864]\n",
      " ...\n",
      " [-0.477258   -0.99037497  0.09384758 ... -1.24463542  0.04119529\n",
      "  -0.06510872]\n",
      " [ 0.08727646 -0.63640335  1.08296438 ... -0.99400228 -0.02959936\n",
      "   1.07128243]\n",
      " [ 0.01349049 -0.75140707  0.31515345 ... -1.07007571 -0.45399485\n",
      "  -0.56534514]]\n"
     ]
    }
   ],
   "source": [
    "print(X_resampled)"
   ]
  },
  {
   "cell_type": "code",
   "execution_count": 69,
   "metadata": {},
   "outputs": [],
   "source": [
    "#y = column_or_1d(y, warn=True)"
   ]
  },
  {
   "cell_type": "markdown",
   "metadata": {},
   "source": [
    "For model comparison, I have selected 7 Models for this analaysis, and they are as follows: Model 1 - XGBoostClassifier Model 2 - Support Vector Classifier(SCV) Model 3 - RandomForestClassifier Model 4 - Logistic Model 5 - BalancedBaggingClassifier Model 6 - Decision Tree Model 7 - Naive Bayes Classifier"
   ]
  },
  {
   "cell_type": "code",
   "execution_count": 70,
   "metadata": {},
   "outputs": [
    {
     "data": {
      "text/plain": [
       "XGBClassifier(base_score=0.5, booster='gbtree', colsample_bylevel=1,\n",
       "              colsample_bynode=1, colsample_bytree=1, gamma=0, gpu_id=-1,\n",
       "              importance_type='gain', interaction_constraints='',\n",
       "              learning_rate=0.300000012, max_delta_step=0, max_depth=6,\n",
       "              min_child_weight=1, missing=nan, monotone_constraints='()',\n",
       "              n_estimators=100, n_jobs=0, num_parallel_tree=1, random_state=0,\n",
       "              reg_alpha=0, reg_lambda=1, scale_pos_weight=1, subsample=1,\n",
       "              tree_method='exact', validate_parameters=1, verbosity=None)"
      ]
     },
     "execution_count": 70,
     "metadata": {},
     "output_type": "execute_result"
    }
   ],
   "source": [
    "# Model 1 : Fitting XGBClassifier to the training data\n",
    "\n",
    "from xgboost import XGBClassifier\n",
    "classifier_1 = XGBClassifier()\n",
    "classifier_1.fit(X_resampled,np.ravel(y_resampled))\n"
   ]
  },
  {
   "cell_type": "code",
   "execution_count": null,
   "metadata": {},
   "outputs": [],
   "source": []
  },
  {
   "cell_type": "code",
   "execution_count": 71,
   "metadata": {},
   "outputs": [
    {
     "data": {
      "text/plain": [
       "SVC(C=1, kernel='linear', probability=True)"
      ]
     },
     "execution_count": 71,
     "metadata": {},
     "output_type": "execute_result"
    }
   ],
   "source": [
    "# Model 2 : Fitting SVM to the training data \n",
    "\n",
    "from sklearn.svm import SVC\n",
    "classifier_2 = SVC(kernel='linear', C=1, probability = True, random_state = random.seed(123))\n",
    "classifier_2.fit(X_resampled, np.ravel(y_resampled))"
   ]
  },
  {
   "cell_type": "code",
   "execution_count": 72,
   "metadata": {},
   "outputs": [
    {
     "data": {
      "text/plain": [
       "RandomForestClassifier(criterion='entropy', n_estimators=5)"
      ]
     },
     "execution_count": 72,
     "metadata": {},
     "output_type": "execute_result"
    }
   ],
   "source": [
    "# Model 3: Creating and Fitting Random Forest Classifier to the training data \n",
    "\n",
    "from sklearn.ensemble import RandomForestClassifier\n",
    "classifier_3 = RandomForestClassifier(n_estimators=5, criterion='entropy')\n",
    "classifier_3.fit(X_resampled,np.ravel(y_resampled))"
   ]
  },
  {
   "cell_type": "code",
   "execution_count": 78,
   "metadata": {},
   "outputs": [
    {
     "data": {
      "text/plain": [
       "LogisticRegression(penalty='l1', random_state=0, solver='liblinear')"
      ]
     },
     "execution_count": 78,
     "metadata": {},
     "output_type": "execute_result"
    }
   ],
   "source": [
    "# Model 4: Creating and Fitting logistic Regression to the training data\n",
    "\n",
    "from sklearn.linear_model import LogisticRegression\n",
    "classifier_4 = LogisticRegression(penalty = 'l1', solver='liblinear', random_state = 0)\n",
    "classifier_4.fit(X_resampled,np.ravel(y_resampled))"
   ]
  },
  {
   "cell_type": "code",
   "execution_count": 74,
   "metadata": {},
   "outputs": [
    {
     "data": {
      "text/plain": [
       "BalancedBaggingClassifier(base_estimator=RandomForestClassifier(criterion='entropy'),\n",
       "                          n_estimators=5)"
      ]
     },
     "execution_count": 74,
     "metadata": {},
     "output_type": "execute_result"
    }
   ],
   "source": [
    "# Model 5 : Fitting Balanced Bagging Classifier to the training data \n",
    "\n",
    "from imblearn.ensemble import BalancedBaggingClassifier\n",
    "from sklearn.ensemble import RandomForestClassifier#base_estimator\n",
    "\n",
    "classifier_5 = BalancedBaggingClassifier(base_estimator = RandomForestClassifier(criterion='entropy'),n_estimators = 5,\n",
    "                                         bootstrap = True)\n",
    "\n",
    "classifier_5.fit(X_resampled,np.ravel(y_resampled))"
   ]
  },
  {
   "cell_type": "code",
   "execution_count": 81,
   "metadata": {},
   "outputs": [
    {
     "data": {
      "text/plain": [
       "DecisionTreeClassifier()"
      ]
     },
     "execution_count": 81,
     "metadata": {},
     "output_type": "execute_result"
    }
   ],
   "source": [
    "# Model 6 : Fitting Decision Tree to the training data\n",
    "\n",
    "from sklearn.tree import DecisionTreeClassifier\n",
    "classifier_6 = DecisionTreeClassifier()\n",
    "classifier_6.fit(X_resampled,np.ravel(y_resampled))"
   ]
  },
  {
   "cell_type": "code",
   "execution_count": 82,
   "metadata": {},
   "outputs": [
    {
     "data": {
      "text/plain": [
       "GaussianNB()"
      ]
     },
     "execution_count": 82,
     "metadata": {},
     "output_type": "execute_result"
    }
   ],
   "source": [
    "# Model 7 : Fitting Naive Bayes to the training data \n",
    "\n",
    "from sklearn.naive_bayes import GaussianNB\n",
    "classifier_7 = GaussianNB()\n",
    "classifier_7.fit(X_resampled,np.ravel(y_resampled))"
   ]
  },
  {
   "cell_type": "code",
   "execution_count": 83,
   "metadata": {},
   "outputs": [],
   "source": [
    "# Prediciting the results\n",
    "\n",
    "y_pred_1 = classifier_1.predict(X_test)\n",
    "y_pred_2 = classifier_2.predict(X_test)\n",
    "y_pred_3 = classifier_3.predict(X_test)\n",
    "y_pred_4 = classifier_4.predict(X_test)\n",
    "y_pred_5 = classifier_5.predict(X_test)\n",
    "y_pred_6 = classifier_6.predict(X_test)\n",
    "y_pred_7 = classifier_7.predict(X_test)"
   ]
  },
  {
   "cell_type": "code",
   "execution_count": 87,
   "metadata": {},
   "outputs": [],
   "source": [
    "#print(y_pred_7)"
   ]
  },
  {
   "cell_type": "code",
   "execution_count": 89,
   "metadata": {},
   "outputs": [
    {
     "name": "stdout",
     "output_type": "stream",
     "text": [
      "[[1045   16]\n",
      " [  31   10]]\n"
     ]
    }
   ],
   "source": [
    "# Creating the confusion matrix\n",
    "\n",
    "from sklearn.metrics import confusion_matrix\n",
    "cm_1 = confusion_matrix(y_test,y_pred_1)\n",
    "#print(cm_1)\n",
    "accuracy_1 = (cm_1[0,0]+cm_1[1,1])/len(y_test)\n",
    "#print(accuracy_1)"
   ]
  },
  {
   "cell_type": "code",
   "execution_count": 91,
   "metadata": {},
   "outputs": [
    {
     "name": "stdout",
     "output_type": "stream",
     "text": [
      "0.9074410163339383\n"
     ]
    }
   ],
   "source": [
    "cm_2 = confusion_matrix(y_test,y_pred_2)\n",
    "#print(cm_2)\n",
    "accuracy_2 = (cm_2[0,0]+cm_2[1,1])/len(y_test)\n",
    "print(accuracy_2)"
   ]
  },
  {
   "cell_type": "code",
   "execution_count": 92,
   "metadata": {},
   "outputs": [
    {
     "name": "stdout",
     "output_type": "stream",
     "text": [
      "0.9582577132486388\n"
     ]
    }
   ],
   "source": [
    "cm_3 = confusion_matrix(y_test,y_pred_3)\n",
    "#print(cm_3)\n",
    "accuracy_3 = (cm_3[0,0]+cm_3[1,1])/len(y_test)\n",
    "print(accuracy_3)"
   ]
  },
  {
   "cell_type": "code",
   "execution_count": 93,
   "metadata": {},
   "outputs": [
    {
     "name": "stdout",
     "output_type": "stream",
     "text": [
      "0.9128856624319419\n"
     ]
    }
   ],
   "source": [
    "cm_4 = confusion_matrix(y_test,y_pred_4)\n",
    "#print(cm_4)\n",
    "accuracy_4 = (cm_4[0,0]+cm_4[1,1])/len(y_test)\n",
    "print(accuracy_4)"
   ]
  },
  {
   "cell_type": "code",
   "execution_count": 94,
   "metadata": {},
   "outputs": [
    {
     "name": "stdout",
     "output_type": "stream",
     "text": [
      "0.9600725952813067\n"
     ]
    }
   ],
   "source": [
    "cm_5 = confusion_matrix(y_test,y_pred_5)\n",
    "#print(cm_5)\n",
    "accuracy_5 = (cm_5[0,0]+cm_5[1,1])/len(y_test)\n",
    "print(accuracy_5)"
   ]
  },
  {
   "cell_type": "code",
   "execution_count": 95,
   "metadata": {},
   "outputs": [
    {
     "name": "stdout",
     "output_type": "stream",
     "text": [
      "0.9437386569872959\n"
     ]
    }
   ],
   "source": [
    "cm_6 = confusion_matrix(y_test,y_pred_6)\n",
    "#print(cm_6)\n",
    "accuracy_6 = (cm_6[0,0]+cm_6[1,1])/len(y_test)\n",
    "print(accuracy_6)"
   ]
  },
  {
   "cell_type": "code",
   "execution_count": 96,
   "metadata": {},
   "outputs": [
    {
     "name": "stdout",
     "output_type": "stream",
     "text": [
      "0.32123411978221417\n"
     ]
    }
   ],
   "source": [
    "cm_7 = confusion_matrix(y_test,y_pred_7)\n",
    "#print(cm_7)\n",
    "accuracy_7 = (cm_7[0,0]+cm_7[1,1])/len(y_test)\n",
    "print(accuracy_7)"
   ]
  },
  {
   "cell_type": "code",
   "execution_count": 103,
   "metadata": {},
   "outputs": [
    {
     "name": "stdout",
     "output_type": "stream",
     "text": [
      "Model-1 : XGBoost:\n",
      "Precision: [0.97118959 0.38461538]\n",
      "Recall: [0.98491989 0.24390244]\n",
      "F-Score: [0.97800655 0.29850746]\n",
      "Accuracy_XGBoost: 95.74 %\n",
      "\n",
      "\n",
      "Model-2 : SVC:\n",
      "Precision: [0.99179487 0.25984252]\n",
      "Recall: [0.91140434 0.80487805]\n",
      "F-Score: [0.94990177 0.39285714]\n",
      "Accuracy_XGBoost: 90.74 %\n",
      "\n",
      "\n",
      "Model-3 : Random Forest:\n",
      "Precision: [0.97034291 0.39130435]\n",
      "Recall: [0.9868049 0.2195122]\n",
      "F-Score: [0.97850467 0.28125   ]\n",
      "Accuracy_XGBoost: 95.83 %\n",
      "\n",
      "\n",
      "Model-4 : Logistic:\n",
      "Precision: [0.99284985 0.27642276]\n",
      "Recall: [0.91611687 0.82926829]\n",
      "F-Score: [0.95294118 0.41463415]\n",
      "Accuracy_XGBoost: 91.29 %\n",
      "\n",
      "\n",
      "Model-5 : BalancedBaggingClassifier:\n",
      "Precision: [0.97836312 0.46153846]\n",
      "Recall: [0.98020735 0.43902439]\n",
      "F-Score: [0.97928437 0.45      ]\n",
      "Accuracy_XGBoost: 96.01 %\n",
      "\n",
      "\n",
      "Model-6 : DecisionTreeClassifier:\n",
      "Precision: [0.97526166 0.29411765]\n",
      "Recall: [0.96606975 0.36585366]\n",
      "F-Score: [0.97064394 0.32608696]\n",
      "Accuracy_XGBoost: 94.37 %\n",
      "\n",
      "\n",
      "Model-7 : Naive Bayes Classifier:\n",
      "Precision: [0.99059561 0.04853129]\n",
      "Recall: [0.29783223 0.92682927]\n",
      "F-Score: [0.45797101 0.09223301]\n",
      "Accuracy_XGBoost: 32.12 %\n"
     ]
    }
   ],
   "source": [
    "# Calculating F-score and other performance metrics as the data is imbalanced.\n",
    "\n",
    "from sklearn.metrics import precision_recall_fscore_support\n",
    "precision_1, recall_1, f_score_1, support = precision_recall_fscore_support(y_test, y_pred_1, average=None)\n",
    "print(\"Model-1 : XGBoost:\")\n",
    "print(\"Precision:\",precision_1)\n",
    "print(\"Recall:\",recall_1)\n",
    "print(\"F-Score:\",f_score_1)\n",
    "print(\"Accuracy_XGBoost:\",round(accuracy_1*100,2),'%')\n",
    "\n",
    "\n",
    "from sklearn.metrics import precision_recall_fscore_support\n",
    "precision_2, recall_2, f_score_2, support = precision_recall_fscore_support(y_test, y_pred_2, average=None)\n",
    "print(\"\\n\")\n",
    "print(\"Model-2 : SVC:\")\n",
    "print(\"Precision:\",precision_2)\n",
    "print(\"Recall:\",recall_2)\n",
    "print(\"F-Score:\",f_score_2)\n",
    "print(\"Accuracy_XGBoost:\",round(accuracy_2*100,2),'%')\n",
    "\n",
    "\n",
    "from sklearn.metrics import precision_recall_fscore_support\n",
    "precision_3, recall_3, f_score_3, support = precision_recall_fscore_support(y_test, y_pred_3, average=None)\n",
    "print(\"\\n\")\n",
    "print(\"Model-3 : Random Forest:\")\n",
    "print(\"Precision:\",precision_3)\n",
    "print(\"Recall:\",recall_3)\n",
    "print(\"F-Score:\",f_score_3)\n",
    "print(\"Accuracy_XGBoost:\",round(accuracy_3*100,2),'%')\n",
    "\n",
    "from sklearn.metrics import precision_recall_fscore_support\n",
    "precision_4, recall_4, f_score_4, support = precision_recall_fscore_support(y_test, y_pred_4, average=None)\n",
    "print(\"\\n\")\n",
    "print(\"Model-4 : Logistic:\")\n",
    "print(\"Precision:\",precision_4)\n",
    "print(\"Recall:\",recall_4)\n",
    "print(\"F-Score:\",f_score_4)\n",
    "print(\"Accuracy_XGBoost:\",round(accuracy_4*100,2),'%')\n",
    "\n",
    "from sklearn.metrics import precision_recall_fscore_support\n",
    "precision_5, recall_5, f_score_5, support = precision_recall_fscore_support(y_test, y_pred_5, average=None)\n",
    "print(\"\\n\")\n",
    "print(\"Model-5 : BalancedBaggingClassifier:\")\n",
    "print(\"Precision:\",precision_5)\n",
    "print(\"Recall:\",recall_5)\n",
    "print(\"F-Score:\",f_score_5)\n",
    "print(\"Accuracy_XGBoost:\",round(accuracy_5*100,2),'%')\n",
    "\n",
    "from sklearn.metrics import precision_recall_fscore_support\n",
    "precision_6, recall_6, f_score_6, support = precision_recall_fscore_support(y_test, y_pred_6, average=None)\n",
    "print(\"\\n\")\n",
    "print(\"Model-6 : DecisionTreeClassifier:\")\n",
    "print(\"Precision:\",precision_6)\n",
    "print(\"Recall:\",recall_6)\n",
    "print(\"F-Score:\",f_score_6)\n",
    "print(\"Accuracy_XGBoost:\",round(accuracy_6*100,2),'%')\n",
    "\n",
    "from sklearn.metrics import precision_recall_fscore_support\n",
    "precision_7, recall_7, f_score_7, support = precision_recall_fscore_support(y_test, y_pred_7, average=None)\n",
    "print(\"\\n\")\n",
    "print(\"Model-7 : Naive Bayes Classifier:\")\n",
    "print(\"Precision:\",precision_7)\n",
    "print(\"Recall:\",recall_7)\n",
    "print(\"F-Score:\",f_score_7)\n",
    "print(\"Accuracy_XGBoost:\",round(accuracy_7*100,2),'%')\n",
    "\n"
   ]
  },
  {
   "cell_type": "code",
   "execution_count": 125,
   "metadata": {},
   "outputs": [
    {
     "data": {
      "text/plain": [
       "Text(0, 0.5, 'Accuracy')"
      ]
     },
     "execution_count": 125,
     "metadata": {},
     "output_type": "execute_result"
    },
    {
     "data": {
      "image/png": "[encoded data removed]",
      "text/plain": [
       "<Figure size 1080x360 with 1 Axes>"
      ]
     },
     "metadata": {
      "needs_background": "light"
     },
     "output_type": "display_data"
    }
   ],
   "source": [
    "# Comparing the Accuracies of various models\n",
    "ACCURACY = np.vstack((accuracy_1,accuracy_2,accuracy_3,accuracy_4,accuracy_5,accuracy_6,accuracy_7))\n",
    "number = np.array([\"XGBoost\",\"SVC\",\"Random_Forest\",\"Logistic\",\"BalancedBaggingClassifier\",\n",
    "                   \"DecisionTreeClassifier\",\"Naive Bayes Classifier\"])\n",
    "fig = plt.figure(figsize=(15,5))\n",
    "#plt.figure(figsize=(20,10))\n",
    "ax = fig.add_subplot(111)\n",
    "ax.scatter(number, ACCURACY, color = 'blue', marker = 'x', linewidths = 3)\n",
    "for i in range(0,len(ACCURACY)):\n",
    "       ax.annotate('%0.3f' % (ACCURACY[i]),(number[i], ACCURACY[i]))\n",
    "\n",
    "plt.xlabel('ML Models',fontweight='bold',fontsize=15)    \n",
    "plt.ylabel('Accuracy',fontweight='bold',fontsize=15)"
   ]
  },
  {
   "cell_type": "code",
   "execution_count": 113,
   "metadata": {},
   "outputs": [
    {
     "name": "stdout",
     "output_type": "stream",
     "text": [
      "[0.97800655 0.29850746]\n"
     ]
    }
   ],
   "source": [
    "print(f_score_1)"
   ]
  },
  {
   "cell_type": "code",
   "execution_count": 132,
   "metadata": {},
   "outputs": [
    {
     "data": {
      "text/plain": [
       "Text(0, 0.5, 'F-score')"
      ]
     },
     "execution_count": 132,
     "metadata": {},
     "output_type": "execute_result"
    },
    {
     "data": {
      "image/png": "[encoded data removed]",
      "text/plain": [
       "<Figure size 1080x360 with 1 Axes>"
      ]
     },
     "metadata": {
      "needs_background": "light"
     },
     "output_type": "display_data"
    }
   ],
   "source": [
    "# Comparing the F-Values of various models\n",
    "f_score = np.vstack((f_score_1[0],f_score_2[0],f_score_3[0],f_score_4[0],f_score_5[0],f_score_6[0],f_score_7[0]))\n",
    "number = np.array([\"XGBoost\",\"SVC\",\"Random_Forest\",\"Logistic\",\"BalancedBaggingClassifier\",\n",
    "                   \"DecisionTreeClassifier\",\"Naive Bayes Classifier\"])\n",
    "fig = plt.figure(figsize=(15,5))\n",
    "ax = fig.add_subplot(111)\n",
    "ax.scatter(number, f_score,color='Green', marker = 'x', linewidths = 3)\n",
    "for i in range(0,len(f_score)):\n",
    "       ax.annotate('%0.3f' % (f_score[i]),(number[i], f_score[i]))\n",
    "\n",
    "plt.xlabel('Models',fontweight='bold',fontsize=15)    \n",
    "plt.ylabel('F-score',fontweight='bold',fontsize=15)\n"
   ]
  },
  {
   "cell_type": "markdown",
   "metadata": {},
   "source": [
    "Evaluating the performance of the model further by computing ROC and AUC curve"
   ]
  },
  {
   "cell_type": "code",
   "execution_count": null,
   "metadata": {},
   "outputs": [],
   "source": [
    "from sklearn.metrics import roc_curve, auc\n",
    "from scipy import interp\n",
    "\n",
    "tprs = []\n",
    "aucs = []\n",
    "mean_fpr = np.linspace(0, 1, 100)\n",
    "i = 0\n",
    "\n",
    "probas_1 = classifier_1.predict_proba(X_test)\n",
    "probas_2 = classifier_2.predict_proba(X_test)\n",
    "probas_3 = classifier_3.predict_proba(X_test)\n",
    "probas_4 = classifier_4.predict_proba(X_test)\n",
    "probas_5 = classifier_5.predict_proba(X_test)\n",
    "probas_6 = classifier_6.predict_proba(X_test)\n",
    "probas_7 = classifier_7.predict_proba(X_test)\n",
    "\n",
    "probas = np.vstack((probas_1,probas_2,probas_3,probas_4,probas_5,probas_6,probas_7))\n",
    "\n",
    "# Compute ROC curve and area the curve\n",
    "pointer = [0,1102,2204,3306,4408,5510,6612,7714] \n",
    "for a in range(0,7):\n",
    "       index_1 = pointer[a]\n",
    "       index_2 = pointer[a+1]\n",
    "       fpr, tpr, thresholds = roc_curve(y_test, probas[index_1:index_2, 1])\n",
    "       tprs.append(interp(mean_fpr, fpr, tpr))\n",
    "       tprs[-1][0] = 0.0\n",
    "       roc_auc = auc(fpr, tpr)\n",
    "       aucs.append(roc_auc)\n",
    "       plt.plot(fpr, tpr, lw=2, alpha=0.8,\n",
    "                label='Model %d (AUC = %0.2f)' % (a+1, roc_auc))\n",
    "       \n",
    "       a += 1\n",
    "plt.plot([0, 1], [0, 1], linestyle='--', lw=2, color='r',\n",
    "         label='Luck', alpha=.8)\n",
    "\n",
    "mean_tpr = np.mean(tprs, axis=0)\n",
    "mean_tpr[-1] = 1.0\n",
    "\n",
    "std_tpr = np.std(tprs, axis=0)\n",
    "tprs_upper = np.minimum(mean_tpr + std_tpr, 1)\n",
    "tprs_lower = np.maximum(mean_tpr - std_tpr, 0)\n",
    "\n",
    "\n",
    "plt.xlim([-0.05, 1.05])\n",
    "plt.ylim([-0.05, 1.05])\n",
    "plt.xlabel('False Positive Rate')\n",
    "plt.ylabel('True Positive Rate')\n",
    "plt.title('Receiver operating characteristic')\n",
    "plt.legend(loc=\"lower right\")\n",
    "plt.show()_2,probas_3,probas_4,probas_5,probas_6,probas_7))\n"
   ]
  },
  {
   "cell_type": "code",
   "execution_count": 133,
   "metadata": {},
   "outputs": [
    {
     "name": "stdout",
     "output_type": "stream",
     "text": [
      "[[9.99813795e-01 1.86188467e-04]\n",
      " [9.73002195e-01 2.69977860e-02]\n",
      " [9.99891520e-01 1.08462373e-04]\n",
      " ...\n",
      " [1.75649064e-20 1.00000000e+00]\n",
      " [2.06423632e-02 9.79357637e-01]\n",
      " [7.23520411e-07 9.99999276e-01]]\n"
     ]
    }
   ],
   "source": [
    "from sklearn.metrics import roc_curve,auc\n",
    "from scipy import interp\n",
    "\n",
    "tprs = []\n",
    "\n",
    "aucs = []\n",
    "\n",
    "mean_fpr = np.linspace(0,1,100)\n",
    "i=0\n",
    "\n",
    "probas_1 = classifier_1.predict_proba(X_test)\n",
    "probas_2 = classifier_2.predict_proba(X_test)\n",
    "probas_3 = classifier_3.predict_proba(X_test)\n",
    "probas_4 = classifier_4.predict_proba(X_test)\n",
    "probas_5 = classifier_5.predict_proba(X_test)\n",
    "probas_6 = classifier_6.predict_proba(X_test)\n",
    "probas_7 = classifier_7.predict_proba(X_test)\n",
    "\n",
    "probas = np.vstack((probas_1,probas_2,probas_3,\n",
    "                    probas_4,probas_5,probas_6,probas_7))\n",
    "print(probas)"
   ]
  },
  {
   "cell_type": "code",
   "execution_count": 149,
   "metadata": {},
   "outputs": [
    {
     "data": {
      "image/png": "[encoded data removed]",
      "text/plain": [
       "<Figure size 432x288 with 1 Axes>"
      ]
     },
     "metadata": {
      "needs_background": "light"
     },
     "output_type": "display_data"
    }
   ],
   "source": [
    "# Compute ROC curve and area the curve\n",
    "pointer = [0,1102,2204,3306,4408,5510,6612,7714] \n",
    "for a in range(0,7):\n",
    "       index_1 = pointer[a]\n",
    "       index_2 = pointer[a+1]\n",
    "       fpr, tpr, thresholds = roc_curve(y_test, probas[index_1:index_2, 1])\n",
    "       tprs.append(interp(mean_fpr, fpr, tpr))\n",
    "       tprs[-1][0] = 0.0\n",
    "       roc_auc = auc(fpr, tpr)\n",
    "       aucs.append(roc_auc)\n",
    "       plt.plot(fpr, tpr, lw=2, alpha=0.8,\n",
    "                label='Model %d (AUC = %0.2f)' % (a+1, roc_auc))\n",
    "       \n",
    "       a += 1\n",
    "plt.plot([0, 1], [0, 1], linestyle='--', lw=2, color='r',\n",
    "         label='Luck', alpha=.8)\n",
    "mean_tpr = np.mean(tprs, axis=0)\n",
    "mean_tpr[-1] = 1.0\n",
    "\n",
    "std_tpr = np.std(tprs, axis=0)\n",
    "tprs_upper = np.minimum(mean_tpr + std_tpr, 1)\n",
    "tprs_lower = np.maximum(mean_tpr - std_tpr, 0)\n",
    "\n",
    "\n",
    "plt.xlim([-0.05, 1.05])\n",
    "plt.ylim([-0.05, 1.05])\n",
    "plt.xlabel('False Positive Rate')\n",
    "plt.ylabel('True Positive Rate')\n",
    "plt.title('Receiver Operating Characteristic(ROC)')\n",
    "plt.legend(loc=\"lower right\")\n",
    "plt.tight_layout()\n",
    "\n",
    "plt.show()"
   ]
  },
  {
   "cell_type": "code",
   "execution_count": null,
   "metadata": {},
   "outputs": [],
   "source": []
  }
 ],
 "metadata": {
  "kernelspec": {
   "display_name": "Python 3",
   "language": "python",
   "name": "python3"
  },
  "language_info": {
   "codemirror_mode": {
    "name": "ipython",
    "version": 3
   },
   "file_extension": ".py",
   "mimetype": "text/x-python",
   "name": "python",
   "nbconvert_exporter": "python",
   "pygments_lexer": "ipython3",
   "version": "3.7.4"
  }
 },
 "nbformat": 4,
 "nbformat_minor": 2
}
